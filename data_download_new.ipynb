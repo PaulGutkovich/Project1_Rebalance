{
 "cells": [
  {
   "cell_type": "code",
   "execution_count": 1,
   "metadata": {},
   "outputs": [],
   "source": [
    "import requests\n",
    "import re\n",
    "import json\n",
    "import pandas as pd\n",
    "from pandas import json_normalize\n",
    "import time\n",
    "from datetime import timezone\n",
    "import numpy as np\n",
    "from tqdm import tqdm\n",
    "from pycoingecko import CoinGeckoAPI\n",
    "import datetime\n",
    "cg = CoinGeckoAPI()"
   ]
  },
  {
   "cell_type": "code",
   "execution_count": 11,
   "metadata": {},
   "outputs": [],
   "source": [
    "def getCoin(coin, from_time, to_time):\n",
    "    df = cg.get_coin_market_chart_range_by_id(id=coin, vs_currency='usd', from_timestamp=from_time, to_timestamp=to_time)\n",
    "\n",
    "    df_market_caps = pd.DataFrame(df[\"market_caps\"]).rename(columns={0:\"date\",1:coin+\"_market_cap\"})\n",
    "    df_prices = pd.DataFrame(df[\"prices\"]).rename(columns={0:\"date\",1:coin+\"_price\"})\n",
    "    df_volumes = pd.DataFrame(df[\"total_volumes\"]).rename(columns={0:\"date\",1:coin+\"_volume\"})\n",
    "\n",
    "    df_market_caps['date'] = pd.to_datetime(df_market_caps['date'], unit='ms').map(lambda x: x.strftime('%Y-%m-%d'))\n",
    "    df_prices['date'] = pd.to_datetime(df_prices['date'], unit='ms').map(lambda x: x.strftime('%Y-%m-%d'))\n",
    "    df_volumes['date'] = pd.to_datetime(df_volumes['date'], unit='ms').map(lambda x: x.strftime('%Y-%m-%d'))\n",
    "\n",
    "    \n",
    "    return df_market_caps, df_prices, df_volumes\n",
    "\n",
    "\n",
    "#returns price history of multiple coins\n",
    "def getCoins(coins, from_time, to_time):\n",
    "    mc, p, v = getCoin(coins[0], from_time, to_time)\n",
    "    \n",
    "    df_market_caps = mc\n",
    "    df_prices = p\n",
    "    df_volumes = v\n",
    "     \n",
    "    for coin in tqdm(coins[1:]):\n",
    "        try:\n",
    "            mc, p, v = getCoin(coin, from_time, to_time)\n",
    "            df_market_caps = df_market_caps.merge(mc, how=\"outer\", on=\"date\")\n",
    "            df_prices = df_prices.merge(p, how=\"outer\", on=\"date\")\n",
    "            df_volumes = df_volumes.merge(v, how=\"outer\", on=\"date\")\n",
    "        except:\n",
    "            pass\n",
    "        \n",
    "    df_market_caps.set_index(\"date\", inplace=True)\n",
    "    df_prices.set_index(\"date\", inplace=True)\n",
    "    df_volumes.set_index(\"date\", inplace=True)\n",
    "\n",
    "    return df_market_caps, df_prices, df_volumes\n",
    "\n",
    "def getCoinNames(count):\n",
    "    pages = count // 250\n",
    "    extra = count % 250\n",
    "    names = []\n",
    "    \n",
    "    for i in range(1,pages+1):\n",
    "        c = cg.get_coins(vs_currency='USD', per_page=250,page=i)\n",
    "        names = names + [c[i][\"id\"] for i in range(250)]\n",
    "    \n",
    "    c = cg.get_coins(vs_currency='USD', per_page=250,page=pages+1)\n",
    "    names = names + [c[i][\"id\"] for i in range(extra)]\n",
    "    \n",
    "    return names\n",
    "    "
   ]
  },
  {
   "cell_type": "code",
   "execution_count": 3,
   "metadata": {},
   "outputs": [],
   "source": [
    "date1 = datetime.datetime(2017, 12, 31)\n",
    "date2 = datetime.datetime(2023, 1, 15)"
   ]
  },
  {
   "cell_type": "code",
   "execution_count": 14,
   "metadata": {},
   "outputs": [],
   "source": [
    "names = getCoinNames(500)"
   ]
  },
  {
   "cell_type": "code",
   "execution_count": 15,
   "metadata": {},
   "outputs": [
    {
     "name": "stderr",
     "output_type": "stream",
     "text": [
      "100%|█████████████████████████████████████████████████████████████████████████████| 499/499 [10:28:06<00:00, 75.52s/it]\n"
     ]
    }
   ],
   "source": [
    "market_caps, prices, volumes = getCoins(names, date1.timestamp(), date2.timestamp())"
   ]
  },
  {
   "cell_type": "code",
   "execution_count": 16,
   "metadata": {},
   "outputs": [],
   "source": [
    "market_caps.to_csv(\"data/new/market_caps.csv\")\n",
    "prices.to_csv(\"data/new/prices.csv\")\n",
    "volumes.to_csv(\"data/new/volumes.csv\")"
   ]
  },
  {
   "cell_type": "code",
   "execution_count": null,
   "metadata": {},
   "outputs": [],
   "source": []
  }
 ],
 "metadata": {
  "kernelspec": {
   "display_name": "Python 3",
   "language": "python",
   "name": "python3"
  },
  "language_info": {
   "codemirror_mode": {
    "name": "ipython",
    "version": 3
   },
   "file_extension": ".py",
   "mimetype": "text/x-python",
   "name": "python",
   "nbconvert_exporter": "python",
   "pygments_lexer": "ipython3",
   "version": "3.6.7"
  }
 },
 "nbformat": 4,
 "nbformat_minor": 4
}
